{
 "cells": [
  {
   "cell_type": "markdown",
   "id": "41f409cd",
   "metadata": {},
   "source": [
    "## BMI Workflow"
   ]
  },
  {
   "cell_type": "code",
   "execution_count": 1,
   "id": "b50588fc",
   "metadata": {},
   "outputs": [],
   "source": [
    "from langgraph.graph import StateGraph, START, END\n",
    "from typing import TypedDict"
   ]
  },
  {
   "cell_type": "code",
   "execution_count": 7,
   "id": "d4f93b14",
   "metadata": {},
   "outputs": [],
   "source": [
    "# define state\n",
    "class BMIState(TypedDict):\n",
    "    height: float  # in meters\n",
    "    weight: float  # in kilograms\n",
    "    bmi: float     # Body Mass Index    \n",
    "    label: str     # BMI category label"
   ]
  },
  {
   "cell_type": "code",
   "execution_count": 8,
   "id": "51f7a6ef",
   "metadata": {},
   "outputs": [],
   "source": [
    "def calculate_bmi(state: BMIState) -> BMIState:\n",
    "    weight = state.get(\"weight\")\n",
    "    height = state.get(\"height\")\n",
    "\n",
    "    bmi = weight / (height ** 2)\n",
    "    state[\"bmi\"] = round(bmi, 2)\n",
    "\n",
    "    return state"
   ]
  },
  {
   "cell_type": "code",
   "execution_count": 9,
   "id": "dbe6326a",
   "metadata": {},
   "outputs": [],
   "source": [
    "def label_bmi(state: BMIState) -> BMIState:\n",
    "    bmi = state.get(\"bmi\")\n",
    "\n",
    "    if bmi < 18.5:\n",
    "        label = \"Underweight\"\n",
    "    elif 18.5 <= bmi < 24.9:\n",
    "        label = \"Normal weight\"\n",
    "    elif 25 <= bmi < 29.9:\n",
    "        label = \"Overweight\"\n",
    "    else:\n",
    "        label = \"Obesity\"\n",
    "\n",
    "    state[\"label\"] = label\n",
    "    return state"
   ]
  },
  {
   "cell_type": "code",
   "execution_count": 10,
   "id": "2203f221",
   "metadata": {},
   "outputs": [
    {
     "data": {
      "image/png": "[encoded data removed]",
      "text/plain": [
       "<langgraph.graph.state.CompiledStateGraph object at 0x000001D6B183BAF0>"
      ]
     },
     "execution_count": 10,
     "metadata": {},
     "output_type": "execute_result"
    }
   ],
   "source": [
    "# define your graph \n",
    "graph = StateGraph(BMIState)\n",
    "\n",
    "# add nodes to your graph\n",
    "graph.add_node(\"Calculate BMI\", calculate_bmi)\n",
    "\n",
    "graph.add_node(\"Label BMI\", label_bmi)\n",
    "\n",
    "# add edges to your graph\n",
    "graph.add_edge(START, \"Calculate BMI\")\n",
    "graph.add_edge(\"Calculate BMI\", \"Label BMI\")\n",
    "graph.add_edge(\"Label BMI\", END)\n",
    "\n",
    "# compile your graph\n",
    "workflow = graph.compile()\n",
    "\n",
    "workflow"
   ]
  },
  {
   "cell_type": "code",
   "execution_count": 11,
   "id": "dea34082",
   "metadata": {},
   "outputs": [
    {
     "name": "stdout",
     "output_type": "stream",
     "text": [
      "{'height': 1.75, 'weight': 70, 'bmi': 22.86, 'label': 'Normal weight'}\n"
     ]
    }
   ],
   "source": [
    "#execute your graph\n",
    "initial_state = {\"height\": 1.75, \"weight\": 70}\n",
    "\n",
    "final_state = workflow.invoke(initial_state)\n",
    "print(final_state)"
   ]
  },
  {
   "cell_type": "code",
   "execution_count": null,
   "id": "5191ed26",
   "metadata": {},
   "outputs": [],
   "source": []
  }
 ],
 "metadata": {
  "kernelspec": {
   "display_name": "Python 3",
   "language": "python",
   "name": "python3"
  },
  "language_info": {
   "codemirror_mode": {
    "name": "ipython",
    "version": 3
   },
   "file_extension": ".py",
   "mimetype": "text/x-python",
   "name": "python",
   "nbconvert_exporter": "python",
   "pygments_lexer": "ipython3",
   "version": "3.9.0"
  }
 },
 "nbformat": 4,
 "nbformat_minor": 5
}

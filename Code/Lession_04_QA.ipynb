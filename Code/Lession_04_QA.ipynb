{
 "cells": [
  {
   "cell_type": "markdown",
   "id": "c158aa33",
   "metadata": {},
   "source": [
    "## Question Answer Workflow in LangGraph"
   ]
  },
  {
   "cell_type": "code",
   "execution_count": 21,
   "id": "09eed167",
   "metadata": {},
   "outputs": [],
   "source": [
    "from langchain_groq import ChatGroq\n",
    "from langgraph.graph import StateGraph, START, END\n",
    "from typing import TypedDict\n",
    "from dotenv import load_dotenv"
   ]
  },
  {
   "cell_type": "code",
   "execution_count": 22,
   "id": "f731d1ea",
   "metadata": {},
   "outputs": [
    {
     "data": {
      "text/plain": [
       "True"
      ]
     },
     "execution_count": 22,
     "metadata": {},
     "output_type": "execute_result"
    }
   ],
   "source": [
    "load_dotenv()"
   ]
  },
  {
   "cell_type": "code",
   "execution_count": 33,
   "id": "7c898ca0",
   "metadata": {},
   "outputs": [],
   "source": [
    "model = ChatGroq(model=\"openai/gpt-oss-20b\")"
   ]
  },
  {
   "cell_type": "code",
   "execution_count": 34,
   "id": "9be94e47",
   "metadata": {},
   "outputs": [],
   "source": [
    "# create a state \n",
    "\n",
    "class LLMState(TypedDict):\n",
    "    question: str\n",
    "    answer: str"
   ]
  },
  {
   "cell_type": "code",
   "execution_count": 35,
   "id": "f6526cf8",
   "metadata": {},
   "outputs": [],
   "source": [
    "def llm_qa(state: LLMState) -> LLMState: \n",
    "    # extract the question from the state\n",
    "    question = state[\"question\"]\n",
    "\n",
    "    # form the prompt\n",
    "    prompt = f\"Answer the following Question: {question}\"\n",
    "\n",
    "    # ask question to model \n",
    "    result = model.invoke(prompt).content\n",
    "\n",
    "    # update the state with the answer\n",
    "    state[\"answer\"] = result\n",
    "    return state"
   ]
  },
  {
   "cell_type": "code",
   "execution_count": 36,
   "id": "4a2e1076",
   "metadata": {},
   "outputs": [
    {
     "data": {
      "image/png": "[encoded data removed]",
      "text/plain": [
       "<langgraph.graph.state.CompiledStateGraph object at 0x000001ECD5B90BB0>"
      ]
     },
     "execution_count": 36,
     "metadata": {},
     "output_type": "execute_result"
    }
   ],
   "source": [
    "# Create our graph\n",
    "graph = StateGraph(LLMState)\n",
    "\n",
    "# add nodes \n",
    "graph.add_node(\"QA Node\", llm_qa)\n",
    "\n",
    "# add edges\n",
    "graph.add_edge(START, \"QA Node\")\n",
    "graph.add_edge(\"QA Node\", END)\n",
    "\n",
    "workflow = graph.compile()\n",
    "\n",
    "workflow"
   ]
  },
  {
   "cell_type": "code",
   "execution_count": 37,
   "id": "569a0e3e",
   "metadata": {},
   "outputs": [
    {
     "name": "stdout",
     "output_type": "stream",
     "text": [
      "{'question': 'What is the capital of France?', 'answer': 'The capital of France is Paris.'}\n"
     ]
    }
   ],
   "source": [
    "# execute \n",
    "initial_state = {\"question\": \"What is the capital of France?\"}\n",
    "final_state = workflow.invoke(initial_state)\n",
    "print(final_state)"
   ]
  }
 ],
 "metadata": {
  "kernelspec": {
   "display_name": "Python 3",
   "language": "python",
   "name": "python3"
  },
  "language_info": {
   "codemirror_mode": {
    "name": "ipython",
    "version": 3
   },
   "file_extension": ".py",
   "mimetype": "text/x-python",
   "name": "python",
   "nbconvert_exporter": "python",
   "pygments_lexer": "ipython3",
   "version": "3.9.0"
  }
 },
 "nbformat": 4,
 "nbformat_minor": 5
}
